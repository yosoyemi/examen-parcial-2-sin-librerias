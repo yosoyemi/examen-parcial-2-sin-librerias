{
  "cells": [
    {
      "cell_type": "code",
      "source": [
        "def printM(m):\n",
        "    for r in m:\n",
        "        print(r)\n",
        "    print()\n",
        "\n",
        "def scalar_mult(m, s):\n",
        "    return [[s * x for x in row] for row in m]\n",
        "\n",
        "def add_matrices(A, B):\n",
        "    return [[a + b for a, b in zip(rowA, rowB)] for rowA, rowB in zip(A, B)]\n",
        "\n",
        "def det3(m):\n",
        "    a, b, c = m[0]\n",
        "    d, e, f = m[1]\n",
        "    g, h, i = m[2]\n",
        "    return a * (e * i - f * h) - b * (d * i - f * g) + c * (d * h - e * g)\n",
        "\n",
        "def transpose(m):\n",
        "    return [list(col) for col in zip(*m)]\n",
        "\n",
        "def eigen_U(U):\n",
        "    a, b = U[0]\n",
        "    c, d = U[1]\n",
        "    t = a + d\n",
        "    det = a * d - b * c\n",
        "    disc = (t * t - 4 * det) ** 0.5\n",
        "    lam1, lam2 = (t + disc) / 2, (t - disc) / 2\n",
        "    if b:\n",
        "        v1 = [1, -(a - lam1) / b]\n",
        "        v2 = [1, -(a - lam2) / b]\n",
        "    else:\n",
        "        v1 = [-(d - lam1) / c, 1]\n",
        "        v2 = [-(d - lam2) / c, 1]\n",
        "    return lam1, v1, lam2, v2\n",
        "\n",
        "def cofactor(m, i, j):\n",
        "    rows = [r for r in range(3) if r != i]\n",
        "    cols = [c for c in range(3) if c != j]\n",
        "    return (-1) ** (i + j) * (m[rows[0]][cols[0]] * m[rows[1]][cols[1]] -\n",
        "                               m[rows[0]][cols[1]] * m[rows[1]][cols[0]])\n",
        "\n",
        "def inverse3(m):\n",
        "    d = det3(m)\n",
        "    if d == 0:\n",
        "        return None\n",
        "    cof = [[cofactor(m, i, j) for j in range(3)] for i in range(3)]\n",
        "    adj = transpose(cof)\n",
        "    return [[x / d for x in row] for row in adj]\n",
        "\n",
        "def mat_vec(m, v):\n",
        "    return [sum(x * y for x, y in zip(row, v)) for row in m]\n"
      ],
      "metadata": {
        "id": "trm_xsksokAR"
      },
      "execution_count": 25,
      "outputs": []
    },
    {
      "cell_type": "code",
      "source": [
        "# --------------------- Ejercicio 1 ---------------------\n",
        "print(\"----- Ejercicio 1: H multiplicada por un escalar irracional -----\")\n",
        "sqrt2 = 2**0.5\n",
        "H = [[3, 2, sqrt2],\n",
        "     [0, 1, 1],\n",
        "     [4, 5, 7]]\n",
        "\n",
        "print(\"H:\")\n",
        "printM(H)\n",
        "\n",
        "H_a = scalar_mult(H, sqrt2)\n",
        "\n",
        "print(\"a =\", sqrt2)\n",
        "print(\"H_a = a * H:\")\n",
        "printM(H_a)"
      ],
      "metadata": {
        "id": "C8TWOxgzlB-h",
        "outputId": "1757b100-c7f2-4d99-8832-7801acb72ba6",
        "colab": {
          "base_uri": "https://localhost:8080/"
        }
      },
      "execution_count": 27,
      "outputs": [
        {
          "output_type": "stream",
          "name": "stdout",
          "text": [
            "----- Ejercicio 1: H multiplicada por un escalar irracional -----\n",
            "H:\n",
            "[3, 2, 1.4142135623730951]\n",
            "[0, 1, 1]\n",
            "[4, 5, 7]\n",
            "\n",
            "a = 1.4142135623730951\n",
            "H_a = a * H:\n",
            "[4.242640687119286, 2.8284271247461903, 2.0000000000000004]\n",
            "[0.0, 1.4142135623730951, 1.4142135623730951]\n",
            "[5.656854249492381, 7.0710678118654755, 9.899494936611665]\n",
            "\n"
          ]
        }
      ]
    },
    {
      "cell_type": "code",
      "source": [
        "# --------------------- Ejercicio 2 ---------------------\n",
        "print(\"----- Ejercicio 2: Formar J = H_a + 2*M y calcular det(J) -----\")\n",
        "M = [[1, 2, 3],\n",
        "     [0, 1, 0],\n",
        "     [2, 3, 4]]\n",
        "\n",
        "\n",
        "print(\"M:\")\n",
        "printM(M)\n",
        "\n",
        "J = add_matrices(H_a, scalar_mult(M, 2))\n",
        "\n",
        "print(\"J = H_a + 2*M:\")\n",
        "printM(J)\n",
        "print(\"det(J) =\", det3(J))\n",
        "print()"
      ],
      "metadata": {
        "id": "Tn1Ia1thlB3p",
        "outputId": "8f52567c-ff73-41ab-900c-94160f9e1507",
        "colab": {
          "base_uri": "https://localhost:8080/"
        }
      },
      "execution_count": 28,
      "outputs": [
        {
          "output_type": "stream",
          "name": "stdout",
          "text": [
            "----- Ejercicio 2: Formar J = H_a + 2*M y calcular det(J) -----\n",
            "M:\n",
            "[1, 2, 3]\n",
            "[0, 1, 0]\n",
            "[2, 3, 4]\n",
            "\n",
            "J = H_a + 2*M:\n",
            "[6.242640687119286, 6.82842712474619, 8.0]\n",
            "[0.0, 3.414213562373095, 1.4142135623730951]\n",
            "[9.65685424949238, 13.071067811865476, 17.899494936611667]\n",
            "\n",
            "det(J) = 95.59797974644675\n",
            "\n"
          ]
        }
      ]
    },
    {
      "cell_type": "code",
      "source": [
        "# --------------------- Ejercicio 3 ---------------------\n",
        "#Para M*X, las columnas de M deben igualar las filas de X.\n",
        "#Para X*M, las columnas de X deben igualar las filas de M.\n",
        "#En general, M*X ≠ X*M\n"
      ],
      "metadata": {
        "id": "KvV_uZuYlB0d"
      },
      "execution_count": 30,
      "outputs": []
    },
    {
      "cell_type": "code",
      "source": [
        "# --------------------- Ejercicio 4 ---------------------\n",
        "print(\"----- Ejercicio 4: Polinomio, vector de coeficientes, traspuesta y simetría -----\")\n",
        "print(\"p(x) = 2x^2 + 3x + 1\")\n",
        "\n",
        "coef = [2, 3, 1]\n",
        "\n",
        "print(\"Vector de coeficientes:\", coef)\n",
        "A = [[1, 2, 3],\n",
        "     [2, 5, 4],\n",
        "     [3, 4, 6]]\n",
        "\n",
        "print(\"A:\")\n",
        "printM(A)\n",
        "\n",
        "A_T = transpose(A)\n",
        "\n",
        "print(\"Aᵀ:\")\n",
        "printM(A_T)\n",
        "print(\"¿A es simétrica?\", A == A_T)\n",
        "print()"
      ],
      "metadata": {
        "id": "Mof9DPfjlBUc",
        "outputId": "5f3f54f3-4193-49cc-9780-36d1ff1d9711",
        "colab": {
          "base_uri": "https://localhost:8080/"
        }
      },
      "execution_count": 32,
      "outputs": [
        {
          "output_type": "stream",
          "name": "stdout",
          "text": [
            "----- Ejercicio 4: Polinomio, vector de coeficientes, traspuesta y simetría -----\n",
            "p(x) = 2x^2 + 3x + 1\n",
            "Vector de coeficientes: [2, 3, 1]\n",
            "A:\n",
            "[1, 2, 3]\n",
            "[2, 5, 4]\n",
            "[3, 4, 6]\n",
            "\n",
            "Aᵀ:\n",
            "[1, 2, 3]\n",
            "[2, 5, 4]\n",
            "[3, 4, 6]\n",
            "\n",
            "¿A es simétrica? True\n",
            "\n"
          ]
        }
      ]
    },
    {
      "cell_type": "code",
      "source": [
        "# --------------------- Ejercicio 5 ---------------------\n",
        "print(\"----- Ejercicio 5: Eigenvalores y autovectores de U -----\")\n",
        "U = [[5, 4],\n",
        "     [4, 9]]\n",
        "print(\"U:\")\n",
        "printM(U)\n",
        "lam1, v1, lam2, v2 = eigen_U(U)\n",
        "print(\"Eigenvalor:\", lam1, \"con autovector:\", v1)\n",
        "print(\"Eigenvalor:\", lam2, \"con autovector:\", v2)\n",
        "print()"
      ],
      "metadata": {
        "id": "_Up8gsOwiYaS",
        "outputId": "c51537ce-4f20-4593-b9a8-cc0481931f4f",
        "colab": {
          "base_uri": "https://localhost:8080/"
        }
      },
      "execution_count": 33,
      "outputs": [
        {
          "output_type": "stream",
          "name": "stdout",
          "text": [
            "----- Ejercicio 5: Eigenvalores y autovectores de U -----\n",
            "U:\n",
            "[5, 4]\n",
            "[4, 9]\n",
            "\n",
            "Eigenvalor: 11.47213595499958 con autovector: [1, 1.618033988749895]\n",
            "Eigenvalor: 2.5278640450004204 con autovector: [1, -0.6180339887498949]\n",
            "\n"
          ]
        }
      ]
    },
    {
      "cell_type": "code",
      "source": [
        "# --------------------- Ejercicio 6 ---------------------\n",
        "print(\"----- Ejercicio 6: Inversa de B y solución de B*x = b -----\")\n",
        "B = [[2, 1, 0],\n",
        "     [1, 2, 1],\n",
        "     [0, 1, 2]]\n",
        "\n",
        "print(\"B:\")\n",
        "printM(B)\n",
        "print(\"det(B) =\", det3(B))\n",
        "B_inv = inverse3(B)\n",
        "if B_inv:\n",
        "    print(\"B⁻¹:\")\n",
        "    printM(B_inv)\n",
        "else:\n",
        "    print(\"B no es invertible.\")\n",
        "a\n",
        "b_vec = [1, 2, 3]\n",
        "x_sol = mat_vec(B_inv, b_vec)\n",
        "\n",
        "print(\"b =\", b_vec)\n",
        "print(\"Solución de B*x = b:\", x_sol)"
      ],
      "metadata": {
        "id": "tcYRUAWAnMZa",
        "outputId": "2bba270b-06d2-4c9f-822b-8e9136ebbebd",
        "colab": {
          "base_uri": "https://localhost:8080/"
        }
      },
      "execution_count": 58,
      "outputs": [
        {
          "output_type": "stream",
          "name": "stdout",
          "text": [
            "\n",
            "Ejercicio 6:\n",
            "B⁻¹ =\n",
            "Matrix([[3/4, -1/2, 1/4], [-1/2, 1, -1/2], [1/4, -1/2, 3/4]])\n",
            "Solución x =\n",
            "Matrix([[1/2], [0], [3/2]])\n"
          ]
        }
      ]
    }
  ],
  "metadata": {
    "colab": {
      "name": "Te damos la bienvenida a Colab",
      "provenance": []
    },
    "kernelspec": {
      "display_name": "Python 3",
      "name": "python3"
    }
  },
  "nbformat": 4,
  "nbformat_minor": 0
}